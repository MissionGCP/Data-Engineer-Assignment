{
 "cells": [
  {
   "cell_type": "code",
   "execution_count": null,
   "metadata": {},
   "outputs": [],
   "source": [
    "import sqlite3\n",
    "\n",
    "# Create a SQL connection to our SQLite database\n",
    "DB_Connection = sqlite3.connect(\"Users/mahesh/Data Engineer - Assignment Database.db\")\n",
    "\n",
    "cur = DB_Connection.cursor()\n"
   ]
  },
  {
   "cell_type": "code",
   "execution_count": null,
   "metadata": {},
   "outputs": [],
   "source": [
    "import pandas as pd\n",
    "df_Sales = pd.read_sql_query(\"SELECT * from Sales\", DB_Connection)\n",
    "df_customer = pd.read_sql_query(\"SELECT * from Customers\", DB_Connection)\n",
    "df_Orders = pd.read_sql_query(\"SELECT * from Orders\", DB_Connection)\n",
    "df_Items = pd.read_sql_query(\"SELECT * from Items\", DB_Connection)"
   ]
  },
  {
   "cell_type": "code",
   "execution_count": null,
   "metadata": {},
   "outputs": [],
   "source": [
    "print(\"Numbers of rows in Customer df :\")\n",
    "print(df_customer.count())\n",
    "print(\"-\"*66)\n",
    "print(\"Numbers of rows in Orders df :\")\n",
    "print(df_Orders.count())\n",
    "print(\"-\"*66)\n",
    "print(\"Numbers of rows in Sales df :\")\n",
    "print(df_Sales.count())\n",
    "print(\"-\"*66)\n",
    "print(\"Numbers of rows in Items df :\")\n",
    "print(df_Items.count())"
   ]
  },
  {
   "cell_type": "code",
   "execution_count": null,
   "metadata": {},
   "outputs": [],
   "source": [
    "cust_18_35_df = df_customer[(df_customer[\"age\"].between(18, 35))].reset_index()\n",
    "cust_18_35_df.drop('index',axis=1).head()"
   ]
  },
  {
   "cell_type": "code",
   "execution_count": null,
   "metadata": {},
   "outputs": [],
   "source": [
    "cust_18_35_df.count()"
   ]
  },
  {
   "cell_type": "code",
   "execution_count": null,
   "metadata": {},
   "outputs": [],
   "source": [
    "cust_sales_df = pd.merge(cust_18_35_df, df_Sales, on='customer_id')\n",
    "cust_sales_df=cust_sales_df.drop('index',axis = 1)\n",
    "cust_sales_df"
   ]
  },
  {
   "cell_type": "code",
   "execution_count": null,
   "metadata": {},
   "outputs": [],
   "source": [
    "cust_sales_df.count()"
   ]
  },
  {
   "cell_type": "code",
   "execution_count": null,
   "metadata": {},
   "outputs": [],
   "source": [
    "final_df = pd.merge(cust_sales_df, df_Orders, on='sales_id', how='inner')\n",
    "final_df = final_df[final_df['quantity'].notnull()]\n",
    "final_df= final_df.reset_index().drop('index',axis=1)\n",
    "final_df.head(25)"
   ]
  },
  {
   "cell_type": "code",
   "execution_count": null,
   "metadata": {},
   "outputs": [],
   "source": [
    "Customer_ItemQty = final_df.groupby(['customer_id', 'age','item_id'])['quantity'].sum().reset_index()\n",
    "\n",
    "Customer_ItemQty = pd.merge(Customer_ItemQty,df_Items, on ='item_id').drop('item_id',axis = 1)\n",
    "Customer_ItemQty\n"
   ]
  },
  {
   "cell_type": "code",
   "execution_count": null,
   "metadata": {},
   "outputs": [],
   "source": [
    "df_sorted = Customer_ItemQty.sort_values(by='customer_id')\n",
    "Result = df_sorted[['customer_id','age','item_name','quantity']].reset_index()\n",
    "Result = Result.drop('index',axis=1)\n",
    "Result['quantity'] = Result['quantity'].astype(int)\n",
    "Result"
   ]
  },
  {
   "cell_type": "code",
   "execution_count": null,
   "metadata": {},
   "outputs": [],
   "source": [
    "file_path = 'Users/mahesh/Output.csv'\n",
    "Result.to_csv(file_path, sep=';',index=False)"
   ]
  },
  {
   "cell_type": "markdown",
   "metadata": {},
   "source": [
    "# Answer with the SQL Approach"
   ]
  },
  {
   "cell_type": "code",
   "execution_count": null,
   "metadata": {},
   "outputs": [],
   "source": [
    "import sqlite3\n",
    "\n",
    "# Create a SQL connection to our SQLite database\n",
    "DB_Connection = sqlite3.connect(\"Users/bharath/Downloads/Data Engineer - Assignment Database.db\")\n",
    "\n",
    "cur = DB_Connection.cursor()\n",
    "\n",
    "print('customer_id,','age,','Item_id,','Total_quantity')\n",
    "Query = '''\n",
    "SELECT A.customer_id, A.age, \n",
    "       CASE \n",
    "           WHEN B.item_id = 1 THEN 'X'\n",
    "           WHEN B.item_id = 2 THEN 'Y'\n",
    "           WHEN B.item_id = 3 THEN 'Z'\n",
    "       END AS item_name,\n",
    "       SUM(B.quantity) AS total_quantity\n",
    "FROM (\n",
    "    SELECT c.customer_id, c.age, s.sales_id \n",
    "    FROM customers c\n",
    "    JOIN sales s ON c.customer_id = s.customer_id \n",
    "    WHERE c.age >= 18 AND c.age <= 35\n",
    ") A\n",
    "JOIN Orders B ON A.sales_id = B.sales_id\n",
    "WHERE B.quantity IS NOT NULL\n",
    "GROUP BY A.customer_id, A.age, item_name\n",
    "ORDER BY A.customer_id;'''\n",
    "\n",
    "for row in cur.execute(Query):\n",
    "    print(row)\n"
   ]
  },
  {
   "cell_type": "code",
   "execution_count": null,
   "metadata": {},
   "outputs": [],
   "source": []
  }
 ],
 "metadata": {
  "kernelspec": {
   "display_name": "base",
   "language": "python",
   "name": "python3"
  },
  "language_info": {
   "codemirror_mode": {
    "name": "ipython",
    "version": 3
   },
   "file_extension": ".py",
   "mimetype": "text/x-python",
   "name": "python",
   "nbconvert_exporter": "python",
   "pygments_lexer": "ipython3",
   "version": "3.10.9"
  }
 },
 "nbformat": 4,
 "nbformat_minor": 2
}
